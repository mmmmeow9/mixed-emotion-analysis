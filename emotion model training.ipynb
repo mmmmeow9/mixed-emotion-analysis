{
 "cells": [
  {
   "cell_type": "code",
   "execution_count": null,
   "metadata": {
    "id": "1GY5SDdnpsRq"
   },
   "outputs": [],
   "source": [
    "import numpy as np\n",
    "import pandas as pd\n",
    "from keras.layers import Dense, Input, LSTM, Bidirectional,GRU, Conv1D\n",
    "from keras.layers import Dropout, Embedding\n",
    "from keras.preprocessing import text, sequence\n",
    "from keras.layers import GlobalMaxPooling1D, GlobalAveragePooling1D, concatenate, SpatialDropout1D, MaxPool1D,BatchNormalization,Activation,Flatten\n",
    "from keras.models import Model\n",
    "\n",
    "# from keras.preprocessing import sequence\n",
    "from keras.datasets import imdb\n",
    "from matplotlib import pyplot as plt\n",
    "import pandas as pd\n",
    "\n",
    "from keras import backend as K\n",
    "from keras.engine.topology import Layer"
   ]
  },
  {
   "cell_type": "code",
   "execution_count": null,
   "metadata": {
    "id": "vlY_8ZwOobS2"
   },
   "outputs": [],
   "source": [
    "class Self_Attention(Layer):\n",
    "\n",
    "    def __init__(self, output_dim, **kwargs):\n",
    "        self.output_dim = output_dim\n",
    "        super(Self_Attention, self).__init__(**kwargs)\n",
    "\n",
    "    def build(self, input_shape):\n",
    "\n",
    "        #inputs.shape = (batch_size, time_steps, seq_len)\n",
    "        self.kernel = self.add_weight(name='kernel',\n",
    "                                      shape=(3,input_shape[2], self.output_dim),\n",
    "                                      initializer='uniform',\n",
    "                                      trainable=True)\n",
    "\n",
    "        super(Self_Attention, self).build(input_shape)  \n",
    "\n",
    "    def call(self, x):\n",
    "        WQ = K.dot(x, self.kernel[0])\n",
    "        WK = K.dot(x, self.kernel[1])\n",
    "        WV = K.dot(x, self.kernel[2])\n",
    "\n",
    "        print(\"WQ.shape\",WQ.shape)\n",
    "\n",
    "        print(\"K.permute_dimensions(WK, [0, 2, 1]).shape\",K.permute_dimensions(WK, [0, 2, 1]).shape)\n",
    "\n",
    "\n",
    "        QK = K.batch_dot(WQ,K.permute_dimensions(WK, [0, 2, 1]))\n",
    "\n",
    "        QK = QK / (64**0.5)\n",
    "\n",
    "        QK = K.softmax(QK)\n",
    "\n",
    "        print(\"QK.shape\",QK.shape)\n",
    "\n",
    "        V = K.batch_dot(QK,WV)\n",
    "\n",
    "        return V\n",
    "\n",
    "    def compute_output_shape(self, input_shape):\n",
    "\n",
    "        return (input_shape[0],input_shape[1],self.output_dim)"
   ]
  },
  {
   "cell_type": "code",
   "execution_count": null,
   "metadata": {
    "id": "vVFvnnbspySS"
   },
   "outputs": [],
   "source": [
    "EMBEDDING_FILE = 'glove.840B.300d.txt'\n",
    "train_x = pd.read_csv('data/2018train.csv')\n",
    "test_x = pd.read_csv('data/2018dev2.csv')\n",
    "\n",
    "max_features = 16803\n",
    "maxlen = 150\n",
    "embed_size = 300"
   ]
  },
  {
   "cell_type": "code",
   "execution_count": null,
   "metadata": {
    "id": "lAUcY2UqqC8q"
   },
   "outputs": [],
   "source": [
    "train_x['Tweet'].fillna(' ')\n",
    "test_x['Tweet'].fillna(' ')\n",
    "train_y = train_x[\n",
    "    ['anger', 'anticipation', 'disgust', 'fear', 'joy', 'love', 'optimism', 'pessimism', 'sadness', 'surprise', 'trust']].values\n",
    "train_x = train_x.astype(str)\n",
    "train_x = train_x['Tweet'].str.lower()\n",
    "\n",
    "test_x = test_x['Tweet'].str.lower()\n",
    "# test_y = test_x[\n",
    "#     ['anger', 'anticipation', 'disgust', 'fear', 'joy', 'love', 'optimism', 'pessimism', 'sadness', 'surprise', 'trust']].values\n",
    "\n",
    "# Vectorize text + Prepare GloVe Embedding\n",
    "tokenizer = text.Tokenizer(num_words=max_features, lower=True)\n",
    "tokenizer.fit_on_texts(list(train_x))\n",
    "\n",
    "train_x = tokenizer.texts_to_sequences(train_x)\n",
    "test_x = tokenizer.texts_to_sequences(test_x)\n",
    "\n",
    "train_x = sequence.pad_sequences(train_x, maxlen=maxlen)\n",
    "test_x = sequence.pad_sequences(test_x, maxlen=maxlen)"
   ]
  },
  {
   "cell_type": "code",
   "execution_count": null,
   "metadata": {
    "id": "8YPFmEKyqG7S"
   },
   "outputs": [],
   "source": [
    "embeddings_index = {}\n",
    "with open(EMBEDDING_FILE, encoding='utf8') as f:\n",
    "    for line in f:\n",
    "        values = line.rstrip().rsplit(' ')\n",
    "        word = values[0]\n",
    "        coefs = np.asarray(values[1:], dtype='float32')\n",
    "        embeddings_index[word] = coefs\n",
    "\n",
    "word_index = tokenizer.word_index\n",
    "num_words = min(max_features, len(word_index) + 1)\n",
    "embedding_matrix = np.zeros((num_words, embed_size))\n",
    "for word, i in word_index.items():\n",
    "    if i >= max_features:\n",
    "        continue\n",
    "\n",
    "    embedding_vector = embeddings_index.get(word)\n",
    "    if embedding_vector is not None:\n",
    "        embedding_matrix[i] = embedding_vector"
   ]
  },
  {
   "cell_type": "code",
   "execution_count": null,
   "metadata": {
    "colab": {
     "base_uri": "https://localhost:8080/"
    },
    "executionInfo": {
     "elapsed": 2278127,
     "status": "ok",
     "timestamp": 1610689056269,
     "user": {
      "displayName": "Yuming Li",
      "photoUrl": "",
      "userId": "11562499168545784653"
     },
     "user_tz": -480
    },
    "id": "n8ZH_Gb2qMp6",
    "outputId": "cb1380d9-4320-487a-d169-f161e9a96312"
   },
   "outputs": [
    {
     "name": "stdout",
     "output_type": "stream",
     "text": [
      "WQ.shape (None, 150, 128)\n",
      "K.permute_dimensions(WK, [0, 2, 1]).shape (None, 128, 150)\n",
      "QK.shape (None, 150, 150)\n",
      "WARNING:tensorflow:Layer gru will not use cuDNN kernel since it doesn't meet the cuDNN kernel criteria. It will use generic GPU kernel as fallback when running on GPU\n",
      "WARNING:tensorflow:Layer gru will not use cuDNN kernel since it doesn't meet the cuDNN kernel criteria. It will use generic GPU kernel as fallback when running on GPU\n",
      "WARNING:tensorflow:Layer gru will not use cuDNN kernel since it doesn't meet the cuDNN kernel criteria. It will use generic GPU kernel as fallback when running on GPU\n",
      "Epoch 1/10\n",
      "WQ.shape (None, 150, 128)\n",
      "K.permute_dimensions(WK, [0, 2, 1]).shape (None, 128, 150)\n",
      "QK.shape (None, 150, 150)\n",
      "WQ.shape (None, 150, 128)\n",
      "K.permute_dimensions(WK, [0, 2, 1]).shape (None, 128, 150)\n",
      "QK.shape (None, 150, 150)\n",
      "213/213 [==============================] - 241s 1s/step - loss: 0.4800 - accuracy: 0.2574\n",
      "Epoch 2/10\n",
      "213/213 [==============================] - 234s 1s/step - loss: 0.3301 - accuracy: 0.4710\n",
      "Epoch 3/10\n",
      "213/213 [==============================] - 229s 1s/step - loss: 0.2858 - accuracy: 0.5073\n",
      "Epoch 4/10\n",
      "213/213 [==============================] - 230s 1s/step - loss: 0.2513 - accuracy: 0.5346\n",
      "Epoch 5/10\n",
      "213/213 [==============================] - 231s 1s/step - loss: 0.2202 - accuracy: 0.5645\n",
      "Epoch 6/10\n",
      "213/213 [==============================] - 230s 1s/step - loss: 0.1964 - accuracy: 0.5206\n",
      "Epoch 7/10\n",
      "213/213 [==============================] - 229s 1s/step - loss: 0.1550 - accuracy: 0.5266\n",
      "Epoch 8/10\n",
      "213/213 [==============================] - 227s 1s/step - loss: 0.1435 - accuracy: 0.5453\n",
      "Epoch 9/10\n",
      "213/213 [==============================] - 226s 1s/step - loss: 0.1171 - accuracy: 0.5482\n",
      "Epoch 10/10\n",
      "213/213 [==============================] - 224s 1s/step - loss: 0.0974 - accuracy: 0.5448\n",
      "WQ.shape (None, 150, 128)\n",
      "K.permute_dimensions(WK, [0, 2, 1]).shape (None, 128, 150)\n",
      "QK.shape (None, 150, 150)\n",
      "28/28 [==============================] - 3s 75ms/step\n"
     ]
    }
   ],
   "source": [
    "# Build Model\n",
    "inp = Input(shape=(maxlen,))\n",
    "# S_inputs = Input(shape=(64,), dtype='int32')\n",
    "\n",
    "# embeddings = Embedding(max_features, 128)(S_inputs)\n",
    "\n",
    "\n",
    "# O_seq = Self_Attention(128)(embeddings)\n",
    "embeddings = Embedding(max_features, embed_size, weights=[embedding_matrix], trainable=True)(inp)\n",
    "x = Self_Attention(128)(embeddings)\n",
    "# x = Embedding(max_features, embed_size, weights=[embedding_matrix], trainable=True)(inp)\n",
    "x = SpatialDropout1D(0.35)(x)\n",
    "\n",
    "x = Bidirectional(GRU(128, return_sequences=True, dropout=0.15, recurrent_dropout=0.15))(x)\n",
    "x = Conv1D(64, kernel_size=3, padding='valid', kernel_initializer='glorot_uniform')(x)\n",
    "\n",
    "avg_pool = GlobalAveragePooling1D()(x)\n",
    "max_pool = GlobalMaxPooling1D()(x)\n",
    "x = concatenate([avg_pool, max_pool])\n",
    "\n",
    "out = Dense(11, activation='sigmoid')(x)\n",
    "\n",
    "model = Model(inp, out)\n",
    "model.compile(loss='binary_crossentropy', optimizer='adam', metrics=['accuracy'])\n",
    "\n",
    "# Prediction\n",
    "batch_size = 32\n",
    "epochs = 10\n",
    "\n",
    "model.fit(train_x, train_y, batch_size=batch_size, epochs=epochs, verbose=1)\n",
    "predictions = model.predict(test_x, batch_size=batch_size, verbose=1)"
   ]
  },
  {
   "cell_type": "code",
   "execution_count": null,
   "metadata": {
    "colab": {
     "base_uri": "https://localhost:8080/"
    },
    "executionInfo": {
     "elapsed": 2468378,
     "status": "ok",
     "timestamp": 1610693050629,
     "user": {
      "displayName": "Yuming Li",
      "photoUrl": "",
      "userId": "11562499168545784653"
     },
     "user_tz": -480
    },
    "id": "a8XMoWGSo6c8",
    "outputId": "0530ae4b-6055-467e-b612-97c9f4079bfe"
   },
   "outputs": [
    {
     "name": "stdout",
     "output_type": "stream",
     "text": [
      "WARNING:tensorflow:Layer lstm_1 will not use cuDNN kernel since it doesn't meet the cuDNN kernel criteria. It will use generic GPU kernel as fallback when running on GPU\n",
      "WARNING:tensorflow:Layer lstm_1 will not use cuDNN kernel since it doesn't meet the cuDNN kernel criteria. It will use generic GPU kernel as fallback when running on GPU\n",
      "WARNING:tensorflow:Layer lstm_1 will not use cuDNN kernel since it doesn't meet the cuDNN kernel criteria. It will use generic GPU kernel as fallback when running on GPU\n",
      "Epoch 1/10\n",
      "213/213 [==============================] - 260s 1s/step - loss: 0.4600 - accuracy: 0.2788\n",
      "Epoch 2/10\n",
      "213/213 [==============================] - 249s 1s/step - loss: 0.3294 - accuracy: 0.4843\n",
      "Epoch 3/10\n",
      "213/213 [==============================] - 246s 1s/step - loss: 0.2901 - accuracy: 0.5222\n",
      "Epoch 4/10\n",
      "213/213 [==============================] - 244s 1s/step - loss: 0.2569 - accuracy: 0.5294\n",
      "Epoch 5/10\n",
      "213/213 [==============================] - 243s 1s/step - loss: 0.2328 - accuracy: 0.5242\n",
      "Epoch 6/10\n",
      "213/213 [==============================] - 241s 1s/step - loss: 0.2017 - accuracy: 0.5609\n",
      "Epoch 7/10\n",
      "213/213 [==============================] - 245s 1s/step - loss: 0.1760 - accuracy: 0.5675\n",
      "Epoch 8/10\n",
      "213/213 [==============================] - 244s 1s/step - loss: 0.1507 - accuracy: 0.5502\n",
      "Epoch 9/10\n",
      "213/213 [==============================] - 245s 1s/step - loss: 0.1294 - accuracy: 0.5624\n",
      "Epoch 10/10\n",
      "213/213 [==============================] - 245s 1s/step - loss: 0.1145 - accuracy: 0.5516\n",
      "28/28 [==============================] - 3s 79ms/step\n"
     ]
    }
   ],
   "source": [
    "# Build Model\n",
    "inp = Input(shape=(maxlen,))\n",
    "\n",
    "x = Embedding(max_features, embed_size, weights=[embedding_matrix], trainable=True)(inp)\n",
    "x = SpatialDropout1D(0.35)(x)\n",
    "\n",
    "x = Bidirectional(LSTM(128, return_sequences=True, dropout=0.15, recurrent_dropout=0.15))(x)\n",
    "x = Conv1D(64, kernel_size=3, padding='valid', kernel_initializer='glorot_uniform')(x)\n",
    "\n",
    "avg_pool = GlobalAveragePooling1D()(x)\n",
    "max_pool = GlobalMaxPooling1D()(x)\n",
    "x = concatenate([avg_pool, max_pool])\n",
    "\n",
    "out = Dense(11, activation='sigmoid')(x)\n",
    "\n",
    "model = Model(inp, out)\n",
    "model.compile(loss='binary_crossentropy', optimizer='adam', metrics=['accuracy'])\n",
    "\n",
    "# Prediction\n",
    "batch_size = 32\n",
    "epochs = 10\n",
    "\n",
    "model.fit(train_x, train_y, batch_size=batch_size, epochs=epochs, verbose=1)\n",
    "predictions = model.predict(test_x, batch_size=batch_size, verbose=1)"
   ]
  },
  {
   "cell_type": "code",
   "execution_count": null,
   "metadata": {
    "colab": {
     "base_uri": "https://localhost:8080/"
    },
    "executionInfo": {
     "elapsed": 2247883,
     "status": "ok",
     "timestamp": 1610696332467,
     "user": {
      "displayName": "Yuming Li",
      "photoUrl": "",
      "userId": "11562499168545784653"
     },
     "user_tz": -480
    },
    "id": "vENyf2uj2JfS",
    "outputId": "526f426b-2a62-43c5-c565-a6325e64a2bc"
   },
   "outputs": [
    {
     "name": "stdout",
     "output_type": "stream",
     "text": [
      "WARNING:tensorflow:Layer gru_1 will not use cuDNN kernel since it doesn't meet the cuDNN kernel criteria. It will use generic GPU kernel as fallback when running on GPU\n",
      "WARNING:tensorflow:Layer gru_1 will not use cuDNN kernel since it doesn't meet the cuDNN kernel criteria. It will use generic GPU kernel as fallback when running on GPU\n",
      "WARNING:tensorflow:Layer gru_1 will not use cuDNN kernel since it doesn't meet the cuDNN kernel criteria. It will use generic GPU kernel as fallback when running on GPU\n",
      "Epoch 1/10\n",
      "213/213 [==============================] - 239s 1s/step - loss: 0.4609 - accuracy: 0.3043\n",
      "Epoch 2/10\n",
      "213/213 [==============================] - 234s 1s/step - loss: 0.3285 - accuracy: 0.4927\n",
      "Epoch 3/10\n",
      "213/213 [==============================] - 223s 1s/step - loss: 0.2840 - accuracy: 0.5426\n",
      "Epoch 4/10\n",
      "213/213 [==============================] - 221s 1s/step - loss: 0.2587 - accuracy: 0.5491\n",
      "Epoch 5/10\n",
      "213/213 [==============================] - 220s 1s/step - loss: 0.2325 - accuracy: 0.5505\n",
      "Epoch 6/10\n",
      "213/213 [==============================] - 220s 1s/step - loss: 0.2053 - accuracy: 0.5608\n",
      "Epoch 7/10\n",
      "213/213 [==============================] - 222s 1s/step - loss: 0.1739 - accuracy: 0.5645\n",
      "Epoch 8/10\n",
      "213/213 [==============================] - 222s 1s/step - loss: 0.1512 - accuracy: 0.5495\n",
      "Epoch 9/10\n",
      "213/213 [==============================] - 221s 1s/step - loss: 0.1303 - accuracy: 0.5586\n",
      "Epoch 10/10\n",
      "213/213 [==============================] - 221s 1s/step - loss: 0.1132 - accuracy: 0.5565\n",
      "28/28 [==============================] - 2s 73ms/step\n"
     ]
    }
   ],
   "source": [
    "# Build Model\n",
    "inp = Input(shape=(maxlen,))\n",
    "\n",
    "x = Embedding(max_features, embed_size, weights=[embedding_matrix], trainable=True)(inp)\n",
    "x = SpatialDropout1D(0.35)(x)\n",
    "\n",
    "x = Bidirectional(GRU(128, return_sequences=True, dropout=0.15, recurrent_dropout=0.15))(x)\n",
    "x = Conv1D(64, kernel_size=3, padding='valid', kernel_initializer='glorot_uniform')(x)\n",
    "\n",
    "avg_pool = GlobalAveragePooling1D()(x)\n",
    "max_pool = GlobalMaxPooling1D()(x)\n",
    "x = concatenate([avg_pool, max_pool])\n",
    "\n",
    "out = Dense(11, activation='sigmoid')(x)\n",
    "\n",
    "model = Model(inp, out)\n",
    "model.compile(loss='binary_crossentropy', optimizer='adam', metrics=['accuracy'])\n",
    "\n",
    "# Prediction\n",
    "batch_size = 32\n",
    "epochs = 10\n",
    "\n",
    "model.fit(train_x, train_y, batch_size=batch_size, epochs=epochs, verbose=1)\n",
    "predictions = model.predict(test_x, batch_size=batch_size, verbose=1)"
   ]
  },
  {
   "cell_type": "code",
   "execution_count": null,
   "metadata": {
    "colab": {
     "base_uri": "https://localhost:8080/"
    },
    "executionInfo": {
     "elapsed": 1262796,
     "status": "ok",
     "timestamp": 1610697595275,
     "user": {
      "displayName": "Yuming Li",
      "photoUrl": "",
      "userId": "11562499168545784653"
     },
     "user_tz": -480
    },
    "id": "x5glUhOB2Z7w",
    "outputId": "a62d4669-821b-46eb-cf5b-2faf228eb474"
   },
   "outputs": [
    {
     "name": "stdout",
     "output_type": "stream",
     "text": [
      "WARNING:tensorflow:Layer lstm_2 will not use cuDNN kernel since it doesn't meet the cuDNN kernel criteria. It will use generic GPU kernel as fallback when running on GPU\n",
      "Epoch 1/10\n",
      "213/213 [==============================] - 127s 586ms/step - loss: 0.4798 - accuracy: 0.2384\n",
      "Epoch 2/10\n",
      "213/213 [==============================] - 125s 586ms/step - loss: 0.3495 - accuracy: 0.4023\n",
      "Epoch 3/10\n",
      "213/213 [==============================] - 124s 584ms/step - loss: 0.3076 - accuracy: 0.5219\n",
      "Epoch 4/10\n",
      "213/213 [==============================] - 124s 582ms/step - loss: 0.2798 - accuracy: 0.5371\n",
      "Epoch 5/10\n",
      "213/213 [==============================] - 124s 584ms/step - loss: 0.2434 - accuracy: 0.5553\n",
      "Epoch 6/10\n",
      "213/213 [==============================] - 124s 584ms/step - loss: 0.2155 - accuracy: 0.5815\n",
      "Epoch 7/10\n",
      "213/213 [==============================] - 125s 585ms/step - loss: 0.1907 - accuracy: 0.5584\n",
      "Epoch 8/10\n",
      "213/213 [==============================] - 125s 587ms/step - loss: 0.1720 - accuracy: 0.5883\n",
      "Epoch 9/10\n",
      "213/213 [==============================] - 131s 616ms/step - loss: 0.1576 - accuracy: 0.5693\n",
      "Epoch 10/10\n",
      "213/213 [==============================] - 130s 609ms/step - loss: 0.1306 - accuracy: 0.5654\n",
      "28/28 [==============================] - 1s 43ms/step\n"
     ]
    }
   ],
   "source": [
    "# Build Model\n",
    "inp = Input(shape=(maxlen,))\n",
    "\n",
    "x = Embedding(max_features, embed_size, weights=[embedding_matrix], trainable=True)(inp)\n",
    "x = SpatialDropout1D(0.35)(x)\n",
    "\n",
    "x = LSTM(128, return_sequences=True, dropout=0.15, recurrent_dropout=0.15)(x)\n",
    "x = Conv1D(64, kernel_size=3, padding='valid', kernel_initializer='glorot_uniform')(x)\n",
    "\n",
    "avg_pool = GlobalAveragePooling1D()(x)\n",
    "max_pool = GlobalMaxPooling1D()(x)\n",
    "x = concatenate([avg_pool, max_pool])\n",
    "\n",
    "out = Dense(11, activation='sigmoid')(x)\n",
    "\n",
    "model = Model(inp, out)\n",
    "model.compile(loss='binary_crossentropy', optimizer='adam', metrics=['accuracy'])\n",
    "\n",
    "# Prediction\n",
    "batch_size = 32\n",
    "epochs = 10\n",
    "\n",
    "model.fit(train_x, train_y, batch_size=batch_size, epochs=epochs, verbose=1)\n",
    "predictions = model.predict(test_x, batch_size=batch_size, verbose=1)"
   ]
  },
  {
   "cell_type": "code",
   "execution_count": null,
   "metadata": {
    "colab": {
     "background_save": true,
     "base_uri": "https://localhost:8080/"
    },
    "id": "ht4a_GVG2dpI",
    "outputId": "e09b535f-d992-44d3-ea95-77400fae7fbd"
   },
   "outputs": [
    {
     "name": "stdout",
     "output_type": "stream",
     "text": [
      "WARNING:tensorflow:Layer gru_2 will not use cuDNN kernel since it doesn't meet the cuDNN kernel criteria. It will use generic GPU kernel as fallback when running on GPU\n",
      "Epoch 1/10\n",
      "213/213 [==============================] - 119s 550ms/step - loss: 0.4713 - accuracy: 0.3029\n",
      "Epoch 2/10\n",
      "213/213 [==============================] - 117s 547ms/step - loss: 0.3407 - accuracy: 0.5087\n",
      "Epoch 3/10\n",
      "213/213 [==============================] - 115s 539ms/step - loss: 0.3003 - accuracy: 0.5161\n",
      "Epoch 4/10\n",
      "213/213 [==============================] - 116s 546ms/step - loss: 0.2725 - accuracy: 0.5030\n",
      "Epoch 5/10\n",
      "213/213 [==============================] - 116s 546ms/step - loss: 0.2478 - accuracy: 0.5443\n",
      "Epoch 6/10\n",
      "213/213 [==============================] - 115s 539ms/step - loss: 0.2194 - accuracy: 0.5453\n",
      "Epoch 7/10\n",
      "213/213 [==============================] - 115s 539ms/step - loss: 0.1931 - accuracy: 0.5542\n",
      "Epoch 8/10\n",
      "213/213 [==============================] - 115s 542ms/step - loss: 0.1754 - accuracy: 0.5429\n",
      "Epoch 9/10\n",
      "213/213 [==============================] - 114s 536ms/step - loss: 0.1476 - accuracy: 0.5561\n",
      "Epoch 10/10\n",
      "213/213 [==============================] - 115s 540ms/step - loss: 0.1311 - accuracy: 0.5535\n",
      "28/28 [==============================] - 1s 38ms/step\n"
     ]
    }
   ],
   "source": [
    "# Build Model\n",
    "inp = Input(shape=(maxlen,))\n",
    "\n",
    "x = Embedding(max_features, embed_size, weights=[embedding_matrix], trainable=True)(inp)\n",
    "x = SpatialDropout1D(0.35)(x)\n",
    "\n",
    "x = GRU(128, return_sequences=True, dropout=0.15, recurrent_dropout=0.15)(x)\n",
    "x = Conv1D(64, kernel_size=3, padding='valid', kernel_initializer='glorot_uniform')(x)\n",
    "\n",
    "avg_pool = GlobalAveragePooling1D()(x)\n",
    "max_pool = GlobalMaxPooling1D()(x)\n",
    "x = concatenate([avg_pool, max_pool])\n",
    "\n",
    "out = Dense(11, activation='sigmoid')(x)\n",
    "\n",
    "model = Model(inp, out)\n",
    "model.compile(loss='binary_crossentropy', optimizer='adam', metrics=['accuracy'])\n",
    "\n",
    "# Prediction\n",
    "batch_size = 32\n",
    "epochs = 10\n",
    "\n",
    "model.fit(train_x, train_y, batch_size=batch_size, epochs=epochs, verbose=1)\n",
    "predictions = model.predict(test_x, batch_size=batch_size, verbose=1)"
   ]
  },
  {
   "cell_type": "code",
   "execution_count": null,
   "metadata": {
    "colab": {
     "base_uri": "https://localhost:8080/"
    },
    "executionInfo": {
     "elapsed": 118334,
     "status": "ok",
     "timestamp": 1610693970786,
     "user": {
      "displayName": "Yuming Li",
      "photoUrl": "",
      "userId": "11562499168545784653"
     },
     "user_tz": -480
    },
    "id": "4GQo9ZbyqAt1",
    "outputId": "193b1e3f-f57f-4a67-cbfa-2e54cf9ef167"
   },
   "outputs": [
    {
     "name": "stdout",
     "output_type": "stream",
     "text": [
      "Epoch 1/10\n",
      "213/213 [==============================] - 13s 55ms/step - loss: 0.6717 - accuracy: 0.1905\n",
      "Epoch 2/10\n",
      "213/213 [==============================] - 12s 54ms/step - loss: 0.4187 - accuracy: 0.3658\n",
      "Epoch 3/10\n",
      "213/213 [==============================] - 12s 55ms/step - loss: 0.3562 - accuracy: 0.4384\n",
      "Epoch 4/10\n",
      "213/213 [==============================] - 12s 55ms/step - loss: 0.3202 - accuracy: 0.4833\n",
      "Epoch 5/10\n",
      "213/213 [==============================] - 11s 54ms/step - loss: 0.2976 - accuracy: 0.4854\n",
      "Epoch 6/10\n",
      "213/213 [==============================] - 12s 54ms/step - loss: 0.2799 - accuracy: 0.5197\n",
      "Epoch 7/10\n",
      "213/213 [==============================] - 12s 54ms/step - loss: 0.2642 - accuracy: 0.4993\n",
      "Epoch 8/10\n",
      "213/213 [==============================] - 12s 54ms/step - loss: 0.2515 - accuracy: 0.5316\n",
      "Epoch 9/10\n",
      "213/213 [==============================] - 11s 54ms/step - loss: 0.2423 - accuracy: 0.5170\n",
      "Epoch 10/10\n",
      "213/213 [==============================] - 12s 54ms/step - loss: 0.2297 - accuracy: 0.5294\n",
      "28/28 [==============================] - 0s 5ms/step\n"
     ]
    }
   ],
   "source": [
    "x_input2 = Input(shape=(maxlen,))\n",
    "emb1 = Embedding(max_features, embed_size, weights=[embedding_matrix], trainable=True)(x_input2)\n",
    "pool_output = []\n",
    "kernel_sizes = [2, 3, 4,5]\n",
    "for kernel_size in kernel_sizes:\n",
    "    c = Conv1D(filters=64, kernel_size=kernel_size, strides=1)(emb1)\n",
    "    p = MaxPool1D(pool_size=int(c.shape[1]))(c)\n",
    "    pool_output.append(p)\n",
    "pool_output = concatenate([p for p in pool_output])\n",
    "normal = BatchNormalization()(pool_output)\n",
    "act = Activation(\"relu\")(normal)\n",
    "flatten = Flatten()(act)\n",
    "dropout = Dropout(0.7)(flatten)\n",
    "output = Dense(11, activation='softmax')(dropout)\n",
    "model = Model(inputs = x_input2, outputs=output)\n",
    "\n",
    "model.compile(loss='binary_crossentropy', optimizer='adam', metrics=['accuracy'])\n",
    "\n",
    "# Prediction\n",
    "batch_size = 32\n",
    "epochs = 10\n",
    "\n",
    "model.fit(train_x, train_y, batch_size=batch_size, epochs=epochs, verbose=1)\n",
    "predictions = model.predict(test_x, batch_size=batch_size, verbose=1)"
   ]
  },
  {
   "cell_type": "code",
   "execution_count": null,
   "metadata": {
    "id": "BHrpi7FJqbYC"
   },
   "outputs": [],
   "source": [
    "submission = pd.read_csv('data/2018dev2.csv')\n",
    "submission[['anger', 'anticipation', 'disgust', 'fear', 'joy', 'love', 'optimism', 'pessimism', 'sadness',\n",
    "            'surprise', 'trust']] = predictions\n",
    "submission.to_csv('output/2018dev112.csv', index=False)"
   ]
  },
  {
   "cell_type": "code",
   "execution_count": null,
   "metadata": {},
   "outputs": [],
   "source": []
  }
 ],
 "metadata": {
  "accelerator": "GPU",
  "colab": {
   "authorship_tag": "ABX9TyMjxGcMSglu8hXh1GD5xTlf",
   "provenance": []
  },
  "kernelspec": {
   "display_name": "Python 3 (ipykernel)",
   "language": "python",
   "name": "python3"
  },
  "language_info": {
   "codemirror_mode": {
    "name": "ipython",
    "version": 3
   },
   "file_extension": ".py",
   "mimetype": "text/x-python",
   "name": "python",
   "nbconvert_exporter": "python",
   "pygments_lexer": "ipython3",
   "version": "3.12.7"
  }
 },
 "nbformat": 4,
 "nbformat_minor": 4
}
